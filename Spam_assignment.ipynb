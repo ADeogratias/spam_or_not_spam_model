{
  "nbformat": 4,
  "nbformat_minor": 0,
  "metadata": {
    "colab": {
      "name": "Spam_assignment.ipynb",
      "provenance": [],
      "collapsed_sections": [],
      "toc_visible": true,
      "include_colab_link": true
    },
    "kernelspec": {
      "display_name": "Python 3",
      "name": "python3"
    }
  },
  "cells": [
    {
      "cell_type": "markdown",
      "metadata": {
        "id": "view-in-github",
        "colab_type": "text"
      },
      "source": [
        "<a href=\"https://colab.research.google.com/github/ADeogratias/spam_or_not_spam_model/blob/main/Spam_assignment.ipynb\" target=\"_parent\"><img src=\"https://colab.research.google.com/assets/colab-badge.svg\" alt=\"Open In Colab\"/></a>"
      ]
    },
    {
      "cell_type": "code",
      "metadata": {
        "id": "XAdPWZJeuxEE"
      },
      "source": [
        "import pandas as pd\n",
        "import numpy as np"
      ],
      "execution_count": null,
      "outputs": []
    },
    {
      "cell_type": "code",
      "metadata": {
        "colab": {
          "base_uri": "https://localhost:8080/"
        },
        "id": "y56PSqgXvkUY",
        "outputId": "8709590e-68f7-4fbd-d15a-91cee0fca71b"
      },
      "source": [
        "ls"
      ],
      "execution_count": null,
      "outputs": [
        {
          "output_type": "stream",
          "text": [
            "\u001b[0m\u001b[01;34mDataset\u001b[0m/  \u001b[01;34msample_data\u001b[0m/  vec_tokenizer.pickel\n"
          ],
          "name": "stdout"
        }
      ]
    },
    {
      "cell_type": "code",
      "metadata": {
        "id": "bzNGHRDFv6-9"
      },
      "source": [
        "df = pd.read_csv(\"Dataset/spam_or_not_spam.csv\").astype(str)"
      ],
      "execution_count": null,
      "outputs": []
    },
    {
      "cell_type": "code",
      "metadata": {
        "colab": {
          "base_uri": "https://localhost:8080/",
          "height": 204
        },
        "id": "Q2mno509wMu2",
        "outputId": "3f927fb7-5288-42c3-ffff-f903cf389244"
      },
      "source": [
        "df.head()"
      ],
      "execution_count": null,
      "outputs": [
        {
          "output_type": "execute_result",
          "data": {
            "text/html": [
              "<div>\n",
              "<style scoped>\n",
              "    .dataframe tbody tr th:only-of-type {\n",
              "        vertical-align: middle;\n",
              "    }\n",
              "\n",
              "    .dataframe tbody tr th {\n",
              "        vertical-align: top;\n",
              "    }\n",
              "\n",
              "    .dataframe thead th {\n",
              "        text-align: right;\n",
              "    }\n",
              "</style>\n",
              "<table border=\"1\" class=\"dataframe\">\n",
              "  <thead>\n",
              "    <tr style=\"text-align: right;\">\n",
              "      <th></th>\n",
              "      <th>email</th>\n",
              "      <th>label</th>\n",
              "    </tr>\n",
              "  </thead>\n",
              "  <tbody>\n",
              "    <tr>\n",
              "      <th>0</th>\n",
              "      <td>date wed NUMBER aug NUMBER NUMBER NUMBER NUMB...</td>\n",
              "      <td>0</td>\n",
              "    </tr>\n",
              "    <tr>\n",
              "      <th>1</th>\n",
              "      <td>martin a posted tassos papadopoulos the greek ...</td>\n",
              "      <td>0</td>\n",
              "    </tr>\n",
              "    <tr>\n",
              "      <th>2</th>\n",
              "      <td>man threatens explosion in moscow thursday aug...</td>\n",
              "      <td>0</td>\n",
              "    </tr>\n",
              "    <tr>\n",
              "      <th>3</th>\n",
              "      <td>klez the virus that won t die already the most...</td>\n",
              "      <td>0</td>\n",
              "    </tr>\n",
              "    <tr>\n",
              "      <th>4</th>\n",
              "      <td>in adding cream to spaghetti carbonara which ...</td>\n",
              "      <td>0</td>\n",
              "    </tr>\n",
              "  </tbody>\n",
              "</table>\n",
              "</div>"
            ],
            "text/plain": [
              "                                               email label\n",
              "0   date wed NUMBER aug NUMBER NUMBER NUMBER NUMB...     0\n",
              "1  martin a posted tassos papadopoulos the greek ...     0\n",
              "2  man threatens explosion in moscow thursday aug...     0\n",
              "3  klez the virus that won t die already the most...     0\n",
              "4   in adding cream to spaghetti carbonara which ...     0"
            ]
          },
          "metadata": {
            "tags": []
          },
          "execution_count": 50
        }
      ]
    },
    {
      "cell_type": "code",
      "metadata": {
        "colab": {
          "base_uri": "https://localhost:8080/"
        },
        "id": "6iS912jCwOP4",
        "outputId": "449e5944-9f71-4f61-9594-a871388a35f5"
      },
      "source": [
        "import re\n",
        "import nltk\n",
        "from keras.layers import Flatten, Dense\n",
        "from keras.layers import Embedding,LSTM\n",
        "from keras.models import Sequential\n",
        "from keras import preprocessing\n",
        "from keras.preprocessing.text import Tokenizer\n",
        "nltk.download('stopwords')"
      ],
      "execution_count": null,
      "outputs": [
        {
          "output_type": "stream",
          "text": [
            "[nltk_data] Downloading package stopwords to /root/nltk_data...\n",
            "[nltk_data]   Package stopwords is already up-to-date!\n"
          ],
          "name": "stdout"
        },
        {
          "output_type": "execute_result",
          "data": {
            "text/plain": [
              "True"
            ]
          },
          "metadata": {
            "tags": []
          },
          "execution_count": 51
        }
      ]
    },
    {
      "cell_type": "code",
      "metadata": {
        "colab": {
          "base_uri": "https://localhost:8080/"
        },
        "id": "f2MKHRgNwRZD",
        "outputId": "7a144fda-b931-4e87-ec5c-05d446ff0832"
      },
      "source": [
        "df['label'].value_counts()"
      ],
      "execution_count": null,
      "outputs": [
        {
          "output_type": "execute_result",
          "data": {
            "text/plain": [
              "0    2500\n",
              "1     500\n",
              "Name: label, dtype: int64"
            ]
          },
          "metadata": {
            "tags": []
          },
          "execution_count": 52
        }
      ]
    },
    {
      "cell_type": "markdown",
      "metadata": {
        "id": "9ndzYYBlK2HK"
      },
      "source": [
        "we have 500 hams and 2500 spams"
      ]
    },
    {
      "cell_type": "code",
      "metadata": {
        "id": "oezCKUpJwZM9"
      },
      "source": [
        "from sklearn.model_selection import train_test_split"
      ],
      "execution_count": null,
      "outputs": []
    },
    {
      "cell_type": "code",
      "metadata": {
        "id": "C4uOiAp5wcq-"
      },
      "source": [
        "from sklearn.feature_extraction.text import TfidfVectorizer, CountVectorizer\n",
        "import gensim"
      ],
      "execution_count": null,
      "outputs": []
    },
    {
      "cell_type": "code",
      "metadata": {
        "id": "KU1FO3JKIVna"
      },
      "source": [
        "X = df['email'].fillna(' ')\n",
        "y = df['label']"
      ],
      "execution_count": null,
      "outputs": []
    },
    {
      "cell_type": "code",
      "metadata": {
        "id": "WEnDbc1iNg8O"
      },
      "source": [
        "# X = df['email'].values\n",
        "# y = df['label'].values"
      ],
      "execution_count": null,
      "outputs": []
    },
    {
      "cell_type": "code",
      "metadata": {
        "id": "l24Up9PAIN4l"
      },
      "source": [
        "def preprocess(text):\n",
        "    text = text.str.lower()\n",
        "    text = text.str.replace(r'\\r', ' ')\n",
        "    text = text.str.replace(r'\\n', ' ')\n",
        "    text = text.str.replace('[^a-zA-Z0-9]', ' ')\n",
        "    return text"
      ],
      "execution_count": null,
      "outputs": []
    },
    {
      "cell_type": "code",
      "metadata": {
        "id": "9QUEvbl8Ic3C"
      },
      "source": [
        "x = preprocess(X)\n",
        "x = x.values\n",
        "y = y.values"
      ],
      "execution_count": null,
      "outputs": []
    },
    {
      "cell_type": "code",
      "metadata": {
        "id": "6Mos2JNyIcqk"
      },
      "source": [
        "from sklearn.model_selection import train_test_split\n",
        "xtrain, xtest, ytrain, ytest = train_test_split(x, y, test_size = 0.2, random_state=0, shuffle = True, stratify= df['label'])\n",
        "# xtrain"
      ],
      "execution_count": null,
      "outputs": []
    },
    {
      "cell_type": "code",
      "metadata": {
        "id": "Nx1Fn_PNIq7r"
      },
      "source": [
        "# xtest"
      ],
      "execution_count": null,
      "outputs": []
    },
    {
      "cell_type": "code",
      "metadata": {
        "id": "OUm5mbaqIq4i"
      },
      "source": [
        "from keras.preprocessing.text import Tokenizer\n",
        "from keras.preprocessing.sequence import pad_sequences\n",
        "\n",
        "def tokenizer_sequences(X):\n",
        "    tokenizer = Tokenizer()\n",
        "    tokenizer.fit_on_texts(X)\n",
        "    sequences = len(tokenizer.word_index) + 1\n",
        "    \n",
        "    return tokenizer, sequences"
      ],
      "execution_count": null,
      "outputs": []
    },
    {
      "cell_type": "code",
      "metadata": {
        "id": "kl8BWM6OIq0S"
      },
      "source": [
        "tokenizer, sequences = tokenizer_sequences(xtrain)"
      ],
      "execution_count": null,
      "outputs": []
    },
    {
      "cell_type": "code",
      "metadata": {
        "colab": {
          "base_uri": "https://localhost:8080/"
        },
        "id": "dmReljbRIqwS",
        "outputId": "e3dcacee-9bd9-40b1-bf62-011afb892d4a"
      },
      "source": [
        "# integer encode the documents\n",
        "train_set_encoded = tokenizer.texts_to_sequences(xtrain)\n",
        "test_set_encoded = tokenizer.texts_to_sequences(xtest)\n",
        "print(train_set_encoded[0:2])"
      ],
      "execution_count": null,
      "outputs": [
        {
          "output_type": "stream",
          "text": [
            "[[4617, 39, 21, 2032, 633, 3, 45, 11, 8, 232, 6, 667, 181, 94, 36, 4617, 718, 200, 304, 23, 410, 6, 851, 1170, 379, 13, 257, 20, 78, 4617, 1, 4617, 634, 39, 1238, 870, 46, 81, 1, 3, 76, 12, 2, 181, 2, 4617, 1171, 317, 3, 19, 3, 285, 2, 95, 45, 12, 179, 121, 302, 4617, 3, 20, 6, 466, 4303, 3, 103, 614, 12, 49, 6, 536, 41, 39, 4617, 109, 285, 13, 14, 6, 200, 18, 1073, 5, 799, 1, 1381, 4617, 2033, 1330, 58, 11943, 12, 819, 1331, 81, 70, 53, 8, 97, 7, 40, 568, 600, 34, 11, 371, 5, 436, 3, 8284, 51, 1412, 11944, 8, 102, 506, 39, 437, 2, 1469, 6509, 6510, 213, 43, 5, 133, 8285, 16016, 11, 39, 8286, 1470, 14, 5893, 339, 60, 101, 4, 492, 16, 168, 2604, 70, 13, 102, 2076, 51, 183, 10, 39, 98, 1870, 39, 71, 23, 121, 3, 45, 15, 4, 506, 81, 2, 5894, 800, 58, 18, 36, 16017, 495, 5, 5895, 2, 1526, 16018, 39, 4618, 1870, 1720, 60, 15, 22, 204, 388, 9, 275, 204, 388, 9, 16, 801, 5, 788, 9, 41, 8, 48, 6, 181, 22, 8287, 2209, 190, 8288, 25, 39, 98, 425, 69, 1871, 51, 39, 583, 3, 2, 1332, 5, 3472, 51, 3837, 8289, 4, 8290, 6, 181, 49, 3, 3043, 70, 14, 6, 553, 1, 1, 39, 613, 1238, 46, 81, 15, 49, 383, 2, 2077, 802, 193, 2, 1382, 45, 302, 2605, 3, 45, 15, 2702, 8, 572, 389, 23, 47, 6, 1383, 146, 7, 1020, 5, 573, 4619, 8, 71, 23, 113, 8, 4620, 2, 1, 32, 8, 205, 25, 1382, 63, 20, 2932, 1122, 658, 7, 4968, 5, 148, 2078, 7342, 8, 75, 1972, 2703, 16, 15, 362, 8, 71, 23, 119, 521, 3, 3473, 2, 181, 3044, 13, 26, 457, 13, 7, 363, 8, 105, 161, 6, 104, 3, 586, 3, 1221, 41, 39, 20, 3, 1567, 46, 95, 16, 1123, 70, 40, 1, 7343, 138, 1, 111, 420, 277, 2286, 1973, 536, 5, 13, 10, 8, 1046, 23, 111, 84, 6, 221, 329, 101, 347, 8291, 2210, 169, 825, 788, 275, 788, 9, 169, 825, 788, 275, 788, 9], [9, 9, 89, 1, 1, 226, 1, 1, 1, 1, 65, 1194, 7, 258, 5, 5413, 1092, 16019, 1384, 16020]]\n"
          ],
          "name": "stdout"
        }
      ]
    },
    {
      "cell_type": "code",
      "metadata": {
        "id": "_Q-bHW2i_PTM"
      },
      "source": [
        "import pickle\n",
        "# saving\n",
        "with open('vec_tokenizer.pickel', 'wb') as handle:\n",
        "    pickle.dump(tokenizer, handle, protocol=pickle.HIGHEST_PROTOCOL)"
      ],
      "execution_count": null,
      "outputs": []
    },
    {
      "cell_type": "code",
      "metadata": {
        "id": "Wvoxj_X6--kS"
      },
      "source": [
        "max_length = 6\n",
        "padded_train_set = pad_sequences(train_set_encoded, maxlen=max_length, padding='post')\n",
        "padded_test_set = pad_sequences(test_set_encoded, maxlen=max_length, padding='post')\n",
        "# print(padded_test_set)"
      ],
      "execution_count": null,
      "outputs": []
    },
    {
      "cell_type": "code",
      "metadata": {
        "colab": {
          "base_uri": "https://localhost:8080/"
        },
        "id": "uwGyr1ZBa6r7",
        "outputId": "8e28f183-d437-46cf-8520-06a8396d8be3"
      },
      "source": [
        "# load the whole embedding into memory\n",
        "embeddingz = {}\n",
        "f = open('/content/glove.6B.100d.txt', encoding='utf-8')\n",
        "\n",
        "for line in f:\n",
        "    values = line.split()\n",
        "    word = values[0]\n",
        "    coefs = np.asarray(values[1:], dtype='float32')\n",
        "    embeddingz[word] = coefs\n",
        "f.close()\n",
        "print('Loaded %s word vectors.' % len(embeddingz))"
      ],
      "execution_count": null,
      "outputs": [
        {
          "output_type": "stream",
          "text": [
            "Loaded 400000 word vectors.\n"
          ],
          "name": "stdout"
        }
      ]
    },
    {
      "cell_type": "code",
      "metadata": {
        "id": "_UC1KENxh9wx"
      },
      "source": [
        "#weight matrix of words in training docs\n",
        "embedding_matrix = np.zeros((sequences, 100))\n",
        "len(embedding_matrix)\n",
        "for word, i in tokenizer.word_index.items():\n",
        "\tembedding_vector = embeddingz.get(word)\n",
        "\tif embedding_vector is not None:\n",
        "\t\tembedding_matrix[i] = embedding_vector "
      ],
      "execution_count": null,
      "outputs": []
    },
    {
      "cell_type": "code",
      "metadata": {
        "id": "K4_LiLB4l_wo"
      },
      "source": [
        "opt = Adam(lr = 0.001)\n",
        "loss = 'binary_crossentropy'"
      ],
      "execution_count": null,
      "outputs": []
    },
    {
      "cell_type": "code",
      "metadata": {
        "colab": {
          "base_uri": "https://localhost:8080/"
        },
        "id": "6ujwrtPtl_rI",
        "outputId": "e99b1a76-a433-43cc-c00f-9b3d7c318349"
      },
      "source": [
        "model = Sequential()\n",
        "model.add(Embedding(sequences, 100, weights=[embedding_matrix], input_length=6))\n",
        "model.add(Flatten())\n",
        "model.add(Dense(10, activation= 'relu'))\n",
        "model.add(Dense(1, activation= 'sigmoid' ))\n",
        "# compile network\n",
        "model.compile(optimizer=opt, loss = loss, metrics=['accuracy'])\n",
        "# summarize defined model\n",
        "model.summary()"
      ],
      "execution_count": null,
      "outputs": [
        {
          "output_type": "stream",
          "text": [
            "Model: \"sequential_8\"\n",
            "_________________________________________________________________\n",
            "Layer (type)                 Output Shape              Param #   \n",
            "=================================================================\n",
            "embedding_7 (Embedding)      (None, 6, 100)            3032200   \n",
            "_________________________________________________________________\n",
            "flatten_3 (Flatten)          (None, 600)               0         \n",
            "_________________________________________________________________\n",
            "dense_4 (Dense)              (None, 10)                6010      \n",
            "_________________________________________________________________\n",
            "dense_5 (Dense)              (None, 1)                 11        \n",
            "=================================================================\n",
            "Total params: 3,038,221\n",
            "Trainable params: 3,038,221\n",
            "Non-trainable params: 0\n",
            "_________________________________________________________________\n"
          ],
          "name": "stdout"
        }
      ]
    },
    {
      "cell_type": "code",
      "metadata": {
        "colab": {
          "base_uri": "https://localhost:8080/"
        },
        "id": "p3n3PdAal_d4",
        "outputId": "e667c1f7-e5e4-4665-8419-176d4f0b9d4e"
      },
      "source": [
        "#Fitting the data into the model\n",
        "model.fit(padded_train_set, ytrain, epochs=200, verbose=1)"
      ],
      "execution_count": null,
      "outputs": [
        {
          "output_type": "stream",
          "text": [
            "Epoch 1/200\n",
            "75/75 [==============================] - 2s 31ms/step - loss: 0.3516 - accuracy: 0.8508\n",
            "Epoch 2/200\n",
            "75/75 [==============================] - 2s 30ms/step - loss: 0.2327 - accuracy: 0.9067\n",
            "Epoch 3/200\n",
            "75/75 [==============================] - 2s 30ms/step - loss: 0.1659 - accuracy: 0.9413\n",
            "Epoch 4/200\n",
            "75/75 [==============================] - 2s 31ms/step - loss: 0.1196 - accuracy: 0.9613\n",
            "Epoch 5/200\n",
            "75/75 [==============================] - 2s 30ms/step - loss: 0.0926 - accuracy: 0.9679\n",
            "Epoch 6/200\n",
            "75/75 [==============================] - 2s 30ms/step - loss: 0.0735 - accuracy: 0.9700\n",
            "Epoch 7/200\n",
            "75/75 [==============================] - 2s 30ms/step - loss: 0.0618 - accuracy: 0.9783\n",
            "Epoch 8/200\n",
            "75/75 [==============================] - 2s 31ms/step - loss: 0.0559 - accuracy: 0.9771\n",
            "Epoch 9/200\n",
            "75/75 [==============================] - 2s 30ms/step - loss: 0.0492 - accuracy: 0.9800\n",
            "Epoch 10/200\n",
            "75/75 [==============================] - 2s 30ms/step - loss: 0.0486 - accuracy: 0.9775\n",
            "Epoch 11/200\n",
            "75/75 [==============================] - 2s 30ms/step - loss: 0.0454 - accuracy: 0.9804\n",
            "Epoch 12/200\n",
            "75/75 [==============================] - 2s 30ms/step - loss: 0.0438 - accuracy: 0.9767\n",
            "Epoch 13/200\n",
            "75/75 [==============================] - 2s 30ms/step - loss: 0.0460 - accuracy: 0.9758\n",
            "Epoch 14/200\n",
            "75/75 [==============================] - 2s 29ms/step - loss: 0.0434 - accuracy: 0.9792\n",
            "Epoch 15/200\n",
            "75/75 [==============================] - 2s 29ms/step - loss: 0.0443 - accuracy: 0.9787\n",
            "Epoch 16/200\n",
            "75/75 [==============================] - 2s 29ms/step - loss: 0.0424 - accuracy: 0.9812\n",
            "Epoch 17/200\n",
            "75/75 [==============================] - 2s 29ms/step - loss: 0.0442 - accuracy: 0.9762\n",
            "Epoch 18/200\n",
            "75/75 [==============================] - 2s 29ms/step - loss: 0.0485 - accuracy: 0.9775\n",
            "Epoch 19/200\n",
            "75/75 [==============================] - 2s 29ms/step - loss: 0.0419 - accuracy: 0.9796\n",
            "Epoch 20/200\n",
            "75/75 [==============================] - 2s 30ms/step - loss: 0.0455 - accuracy: 0.9771\n",
            "Epoch 21/200\n",
            "75/75 [==============================] - 2s 30ms/step - loss: 0.0435 - accuracy: 0.9775\n",
            "Epoch 22/200\n",
            "75/75 [==============================] - 2s 30ms/step - loss: 0.0404 - accuracy: 0.9808\n",
            "Epoch 23/200\n",
            "75/75 [==============================] - 2s 30ms/step - loss: 0.0398 - accuracy: 0.9800\n",
            "Epoch 24/200\n",
            "75/75 [==============================] - 2s 30ms/step - loss: 0.0425 - accuracy: 0.9783\n",
            "Epoch 25/200\n",
            "75/75 [==============================] - 2s 30ms/step - loss: 0.0440 - accuracy: 0.9775\n",
            "Epoch 26/200\n",
            "75/75 [==============================] - 2s 30ms/step - loss: 0.0457 - accuracy: 0.9808\n",
            "Epoch 27/200\n",
            "75/75 [==============================] - 2s 30ms/step - loss: 0.0415 - accuracy: 0.9779\n",
            "Epoch 28/200\n",
            "75/75 [==============================] - 2s 29ms/step - loss: 0.0418 - accuracy: 0.9783\n",
            "Epoch 29/200\n",
            "75/75 [==============================] - 2s 30ms/step - loss: 0.0413 - accuracy: 0.9812\n",
            "Epoch 30/200\n",
            "75/75 [==============================] - 2s 30ms/step - loss: 0.0418 - accuracy: 0.9787\n",
            "Epoch 31/200\n",
            "75/75 [==============================] - 2s 29ms/step - loss: 0.0406 - accuracy: 0.9779\n",
            "Epoch 32/200\n",
            "75/75 [==============================] - 2s 29ms/step - loss: 0.0405 - accuracy: 0.9817\n",
            "Epoch 33/200\n",
            "75/75 [==============================] - 2s 30ms/step - loss: 0.0416 - accuracy: 0.9779\n",
            "Epoch 34/200\n",
            "75/75 [==============================] - 2s 30ms/step - loss: 0.0402 - accuracy: 0.9812\n",
            "Epoch 35/200\n",
            "75/75 [==============================] - 2s 30ms/step - loss: 0.0413 - accuracy: 0.9787\n",
            "Epoch 36/200\n",
            "75/75 [==============================] - 2s 31ms/step - loss: 0.0410 - accuracy: 0.9792\n",
            "Epoch 37/200\n",
            "75/75 [==============================] - 2s 31ms/step - loss: 0.0387 - accuracy: 0.9787\n",
            "Epoch 38/200\n",
            "75/75 [==============================] - 2s 31ms/step - loss: 0.0418 - accuracy: 0.9796\n",
            "Epoch 39/200\n",
            "75/75 [==============================] - 2s 31ms/step - loss: 0.0414 - accuracy: 0.9796\n",
            "Epoch 40/200\n",
            "75/75 [==============================] - 2s 30ms/step - loss: 0.0395 - accuracy: 0.9800\n",
            "Epoch 41/200\n",
            "75/75 [==============================] - 2s 29ms/step - loss: 0.0435 - accuracy: 0.9775\n",
            "Epoch 42/200\n",
            "75/75 [==============================] - 2s 30ms/step - loss: 0.0392 - accuracy: 0.9800\n",
            "Epoch 43/200\n",
            "75/75 [==============================] - 2s 30ms/step - loss: 0.0403 - accuracy: 0.9812\n",
            "Epoch 44/200\n",
            "75/75 [==============================] - 2s 30ms/step - loss: 0.0378 - accuracy: 0.9821\n",
            "Epoch 45/200\n",
            "75/75 [==============================] - 2s 30ms/step - loss: 0.0419 - accuracy: 0.9796\n",
            "Epoch 46/200\n",
            "75/75 [==============================] - 2s 30ms/step - loss: 0.0397 - accuracy: 0.9792\n",
            "Epoch 47/200\n",
            "75/75 [==============================] - 2s 30ms/step - loss: 0.0431 - accuracy: 0.9796\n",
            "Epoch 48/200\n",
            "75/75 [==============================] - 2s 30ms/step - loss: 0.0392 - accuracy: 0.9812\n",
            "Epoch 49/200\n",
            "75/75 [==============================] - 2s 30ms/step - loss: 0.0446 - accuracy: 0.9783\n",
            "Epoch 50/200\n",
            "75/75 [==============================] - 2s 30ms/step - loss: 0.0418 - accuracy: 0.9796\n",
            "Epoch 51/200\n",
            "75/75 [==============================] - 2s 30ms/step - loss: 0.0404 - accuracy: 0.9812\n",
            "Epoch 52/200\n",
            "75/75 [==============================] - 2s 30ms/step - loss: 0.0421 - accuracy: 0.9775\n",
            "Epoch 53/200\n",
            "75/75 [==============================] - 2s 29ms/step - loss: 0.0384 - accuracy: 0.9817\n",
            "Epoch 54/200\n",
            "75/75 [==============================] - 2s 30ms/step - loss: 0.0400 - accuracy: 0.9758\n",
            "Epoch 55/200\n",
            "75/75 [==============================] - 2s 30ms/step - loss: 0.0384 - accuracy: 0.9817\n",
            "Epoch 56/200\n",
            "75/75 [==============================] - 2s 30ms/step - loss: 0.0418 - accuracy: 0.9767\n",
            "Epoch 57/200\n",
            "75/75 [==============================] - 2s 29ms/step - loss: 0.0421 - accuracy: 0.9796\n",
            "Epoch 58/200\n",
            "75/75 [==============================] - 2s 30ms/step - loss: 0.0399 - accuracy: 0.9792\n",
            "Epoch 59/200\n",
            "75/75 [==============================] - 2s 29ms/step - loss: 0.0384 - accuracy: 0.9812\n",
            "Epoch 60/200\n",
            "75/75 [==============================] - 2s 30ms/step - loss: 0.0417 - accuracy: 0.9792\n",
            "Epoch 61/200\n",
            "75/75 [==============================] - 2s 30ms/step - loss: 0.0386 - accuracy: 0.9821\n",
            "Epoch 62/200\n",
            "75/75 [==============================] - 2s 30ms/step - loss: 0.0400 - accuracy: 0.9800\n",
            "Epoch 63/200\n",
            "75/75 [==============================] - 2s 30ms/step - loss: 0.0400 - accuracy: 0.9804\n",
            "Epoch 64/200\n",
            "75/75 [==============================] - 2s 30ms/step - loss: 0.0397 - accuracy: 0.9796\n",
            "Epoch 65/200\n",
            "75/75 [==============================] - 2s 31ms/step - loss: 0.0389 - accuracy: 0.9812\n",
            "Epoch 66/200\n",
            "75/75 [==============================] - 2s 31ms/step - loss: 0.0408 - accuracy: 0.9812\n",
            "Epoch 67/200\n",
            "75/75 [==============================] - 2s 29ms/step - loss: 0.0390 - accuracy: 0.9792\n",
            "Epoch 68/200\n",
            "75/75 [==============================] - 2s 29ms/step - loss: 0.0388 - accuracy: 0.9800\n",
            "Epoch 69/200\n",
            "75/75 [==============================] - 2s 29ms/step - loss: 0.0402 - accuracy: 0.9779\n",
            "Epoch 70/200\n",
            "75/75 [==============================] - 2s 30ms/step - loss: 0.0387 - accuracy: 0.9817\n",
            "Epoch 71/200\n",
            "75/75 [==============================] - 2s 30ms/step - loss: 0.0374 - accuracy: 0.9825\n",
            "Epoch 72/200\n",
            "75/75 [==============================] - 2s 29ms/step - loss: 0.0405 - accuracy: 0.9796\n",
            "Epoch 73/200\n",
            "75/75 [==============================] - 2s 29ms/step - loss: 0.0386 - accuracy: 0.9821\n",
            "Epoch 74/200\n",
            "75/75 [==============================] - 2s 29ms/step - loss: 0.0391 - accuracy: 0.9821\n",
            "Epoch 75/200\n",
            "75/75 [==============================] - 2s 29ms/step - loss: 0.0383 - accuracy: 0.9821\n",
            "Epoch 76/200\n",
            "75/75 [==============================] - 2s 30ms/step - loss: 0.0398 - accuracy: 0.9817\n",
            "Epoch 77/200\n",
            "75/75 [==============================] - 2s 29ms/step - loss: 0.0393 - accuracy: 0.9812\n",
            "Epoch 78/200\n",
            "75/75 [==============================] - 2s 30ms/step - loss: 0.0401 - accuracy: 0.9787\n",
            "Epoch 79/200\n",
            "75/75 [==============================] - 2s 30ms/step - loss: 0.0436 - accuracy: 0.9779\n",
            "Epoch 80/200\n",
            "75/75 [==============================] - 2s 29ms/step - loss: 0.0387 - accuracy: 0.9804\n",
            "Epoch 81/200\n",
            "75/75 [==============================] - 2s 29ms/step - loss: 0.0381 - accuracy: 0.9817\n",
            "Epoch 82/200\n",
            "75/75 [==============================] - 2s 30ms/step - loss: 0.0386 - accuracy: 0.9812\n",
            "Epoch 83/200\n",
            "75/75 [==============================] - 2s 30ms/step - loss: 0.0391 - accuracy: 0.9812\n",
            "Epoch 84/200\n",
            "75/75 [==============================] - 2s 29ms/step - loss: 0.0383 - accuracy: 0.9804\n",
            "Epoch 85/200\n",
            "75/75 [==============================] - 2s 29ms/step - loss: 0.0381 - accuracy: 0.9817\n",
            "Epoch 86/200\n",
            "75/75 [==============================] - 2s 29ms/step - loss: 0.0390 - accuracy: 0.9825\n",
            "Epoch 87/200\n",
            "75/75 [==============================] - 2s 29ms/step - loss: 0.0374 - accuracy: 0.9817\n",
            "Epoch 88/200\n",
            "75/75 [==============================] - 2s 30ms/step - loss: 0.0393 - accuracy: 0.9775\n",
            "Epoch 89/200\n",
            "75/75 [==============================] - 2s 30ms/step - loss: 0.0390 - accuracy: 0.9796\n",
            "Epoch 90/200\n",
            "75/75 [==============================] - 2s 29ms/step - loss: 0.0389 - accuracy: 0.9817\n",
            "Epoch 91/200\n",
            "75/75 [==============================] - 2s 30ms/step - loss: 0.0388 - accuracy: 0.9817\n",
            "Epoch 92/200\n",
            "75/75 [==============================] - 2s 29ms/step - loss: 0.0364 - accuracy: 0.9821\n",
            "Epoch 93/200\n",
            "75/75 [==============================] - 2s 30ms/step - loss: 0.0418 - accuracy: 0.9742\n",
            "Epoch 94/200\n",
            "75/75 [==============================] - 2s 30ms/step - loss: 0.0384 - accuracy: 0.9812\n",
            "Epoch 95/200\n",
            "75/75 [==============================] - 2s 29ms/step - loss: 0.0384 - accuracy: 0.9821\n",
            "Epoch 96/200\n",
            "75/75 [==============================] - 2s 30ms/step - loss: 0.0387 - accuracy: 0.9817\n",
            "Epoch 97/200\n",
            "75/75 [==============================] - 2s 29ms/step - loss: 0.0395 - accuracy: 0.9821\n",
            "Epoch 98/200\n",
            "75/75 [==============================] - 2s 29ms/step - loss: 0.0389 - accuracy: 0.9817\n",
            "Epoch 99/200\n",
            "75/75 [==============================] - 2s 29ms/step - loss: 0.0393 - accuracy: 0.9817\n",
            "Epoch 100/200\n",
            "75/75 [==============================] - 2s 29ms/step - loss: 0.0372 - accuracy: 0.9812\n",
            "Epoch 101/200\n",
            "75/75 [==============================] - 2s 30ms/step - loss: 0.0382 - accuracy: 0.9821\n",
            "Epoch 102/200\n",
            "75/75 [==============================] - 2s 30ms/step - loss: 0.0385 - accuracy: 0.9817\n",
            "Epoch 103/200\n",
            "75/75 [==============================] - 2s 30ms/step - loss: 0.0394 - accuracy: 0.9812\n",
            "Epoch 104/200\n",
            "75/75 [==============================] - 2s 29ms/step - loss: 0.0381 - accuracy: 0.9808\n",
            "Epoch 105/200\n",
            "75/75 [==============================] - 2s 29ms/step - loss: 0.0398 - accuracy: 0.9796\n",
            "Epoch 106/200\n",
            "75/75 [==============================] - 2s 30ms/step - loss: 0.0381 - accuracy: 0.9800\n",
            "Epoch 107/200\n",
            "75/75 [==============================] - 2s 29ms/step - loss: 0.0373 - accuracy: 0.9812\n",
            "Epoch 108/200\n",
            "75/75 [==============================] - 2s 29ms/step - loss: 0.0379 - accuracy: 0.9817\n",
            "Epoch 109/200\n",
            "75/75 [==============================] - 2s 30ms/step - loss: 0.0378 - accuracy: 0.9821\n",
            "Epoch 110/200\n",
            "75/75 [==============================] - 2s 29ms/step - loss: 0.0389 - accuracy: 0.9821\n",
            "Epoch 111/200\n",
            "75/75 [==============================] - 2s 29ms/step - loss: 0.0377 - accuracy: 0.9787\n",
            "Epoch 112/200\n",
            "75/75 [==============================] - 2s 29ms/step - loss: 0.0400 - accuracy: 0.9821\n",
            "Epoch 113/200\n",
            "75/75 [==============================] - 2s 30ms/step - loss: 0.0370 - accuracy: 0.9817\n",
            "Epoch 114/200\n",
            "75/75 [==============================] - 2s 30ms/step - loss: 0.0389 - accuracy: 0.9817\n",
            "Epoch 115/200\n",
            "75/75 [==============================] - 2s 30ms/step - loss: 0.0378 - accuracy: 0.9821\n",
            "Epoch 116/200\n",
            "75/75 [==============================] - 2s 30ms/step - loss: 0.0375 - accuracy: 0.9817\n",
            "Epoch 117/200\n",
            "75/75 [==============================] - 2s 30ms/step - loss: 0.0374 - accuracy: 0.9817\n",
            "Epoch 118/200\n",
            "75/75 [==============================] - 2s 30ms/step - loss: 0.0379 - accuracy: 0.9808\n",
            "Epoch 119/200\n",
            "75/75 [==============================] - 2s 30ms/step - loss: 0.0389 - accuracy: 0.9808\n",
            "Epoch 120/200\n",
            "75/75 [==============================] - 2s 30ms/step - loss: 0.0381 - accuracy: 0.9812\n",
            "Epoch 121/200\n",
            "75/75 [==============================] - 2s 30ms/step - loss: 0.0378 - accuracy: 0.9821\n",
            "Epoch 122/200\n",
            "75/75 [==============================] - 2s 31ms/step - loss: 0.0373 - accuracy: 0.9821\n",
            "Epoch 123/200\n",
            "75/75 [==============================] - 2s 30ms/step - loss: 0.0384 - accuracy: 0.9812\n",
            "Epoch 124/200\n",
            "75/75 [==============================] - 2s 30ms/step - loss: 0.0377 - accuracy: 0.9812\n",
            "Epoch 125/200\n",
            "75/75 [==============================] - 2s 30ms/step - loss: 0.0376 - accuracy: 0.9821\n",
            "Epoch 126/200\n",
            "75/75 [==============================] - 2s 30ms/step - loss: 0.0376 - accuracy: 0.9821\n",
            "Epoch 127/200\n",
            "75/75 [==============================] - 2s 30ms/step - loss: 0.0379 - accuracy: 0.9821\n",
            "Epoch 128/200\n",
            "75/75 [==============================] - 2s 30ms/step - loss: 0.0380 - accuracy: 0.9817\n",
            "Epoch 129/200\n",
            "75/75 [==============================] - 2s 30ms/step - loss: 0.0376 - accuracy: 0.9817\n",
            "Epoch 130/200\n",
            "75/75 [==============================] - 2s 30ms/step - loss: 0.0383 - accuracy: 0.9796\n",
            "Epoch 131/200\n",
            "75/75 [==============================] - 2s 30ms/step - loss: 0.0373 - accuracy: 0.9821\n",
            "Epoch 132/200\n",
            "75/75 [==============================] - 3s 46ms/step - loss: 0.0380 - accuracy: 0.9808\n",
            "Epoch 133/200\n",
            "75/75 [==============================] - 2s 31ms/step - loss: 0.0371 - accuracy: 0.9817\n",
            "Epoch 134/200\n",
            "75/75 [==============================] - 2s 30ms/step - loss: 0.0380 - accuracy: 0.9817\n",
            "Epoch 135/200\n",
            "75/75 [==============================] - 2s 30ms/step - loss: 0.0386 - accuracy: 0.9821\n",
            "Epoch 136/200\n",
            "75/75 [==============================] - 2s 30ms/step - loss: 0.0378 - accuracy: 0.9817\n",
            "Epoch 137/200\n",
            "75/75 [==============================] - 2s 30ms/step - loss: 0.0377 - accuracy: 0.9821\n",
            "Epoch 138/200\n",
            "75/75 [==============================] - 2s 30ms/step - loss: 0.0382 - accuracy: 0.9817\n",
            "Epoch 139/200\n",
            "75/75 [==============================] - 2s 30ms/step - loss: 0.0374 - accuracy: 0.9817\n",
            "Epoch 140/200\n",
            "75/75 [==============================] - 2s 30ms/step - loss: 0.0377 - accuracy: 0.9812\n",
            "Epoch 141/200\n",
            "75/75 [==============================] - 2s 31ms/step - loss: 0.0380 - accuracy: 0.9821\n",
            "Epoch 142/200\n",
            "75/75 [==============================] - 2s 30ms/step - loss: 0.0377 - accuracy: 0.9821\n",
            "Epoch 143/200\n",
            "75/75 [==============================] - 2s 31ms/step - loss: 0.0379 - accuracy: 0.9817\n",
            "Epoch 144/200\n",
            "75/75 [==============================] - 2s 31ms/step - loss: 0.0371 - accuracy: 0.9817\n",
            "Epoch 145/200\n",
            "75/75 [==============================] - 2s 30ms/step - loss: 0.0375 - accuracy: 0.9808\n",
            "Epoch 146/200\n",
            "75/75 [==============================] - 2s 30ms/step - loss: 0.0373 - accuracy: 0.9821\n",
            "Epoch 147/200\n",
            "75/75 [==============================] - 2s 30ms/step - loss: 0.0372 - accuracy: 0.9817\n",
            "Epoch 148/200\n",
            "75/75 [==============================] - 2s 30ms/step - loss: 0.0378 - accuracy: 0.9817\n",
            "Epoch 149/200\n",
            "75/75 [==============================] - 2s 30ms/step - loss: 0.0374 - accuracy: 0.9817\n",
            "Epoch 150/200\n",
            "75/75 [==============================] - 2s 30ms/step - loss: 0.0380 - accuracy: 0.9812\n",
            "Epoch 151/200\n",
            "75/75 [==============================] - 3s 35ms/step - loss: 0.0373 - accuracy: 0.9817\n",
            "Epoch 152/200\n",
            "75/75 [==============================] - 2s 30ms/step - loss: 0.0373 - accuracy: 0.9821\n",
            "Epoch 153/200\n",
            "75/75 [==============================] - 2s 30ms/step - loss: 0.0374 - accuracy: 0.9821\n",
            "Epoch 154/200\n",
            "75/75 [==============================] - 2s 30ms/step - loss: 0.0380 - accuracy: 0.9817\n",
            "Epoch 155/200\n",
            "75/75 [==============================] - 2s 30ms/step - loss: 0.0370 - accuracy: 0.9821\n",
            "Epoch 156/200\n",
            "75/75 [==============================] - 2s 30ms/step - loss: 0.0374 - accuracy: 0.9817\n",
            "Epoch 157/200\n",
            "75/75 [==============================] - 2s 31ms/step - loss: 0.0370 - accuracy: 0.9821\n",
            "Epoch 158/200\n",
            "75/75 [==============================] - 2s 30ms/step - loss: 0.0375 - accuracy: 0.9817\n",
            "Epoch 159/200\n",
            "75/75 [==============================] - 2s 30ms/step - loss: 0.0373 - accuracy: 0.9817\n",
            "Epoch 160/200\n",
            "75/75 [==============================] - 2s 30ms/step - loss: 0.0371 - accuracy: 0.9821\n",
            "Epoch 161/200\n",
            "75/75 [==============================] - 2s 30ms/step - loss: 0.0369 - accuracy: 0.9817\n",
            "Epoch 162/200\n",
            "75/75 [==============================] - 2s 30ms/step - loss: 0.0372 - accuracy: 0.9821\n",
            "Epoch 163/200\n",
            "75/75 [==============================] - 2s 29ms/step - loss: 0.0374 - accuracy: 0.9817\n",
            "Epoch 164/200\n",
            "75/75 [==============================] - 2s 30ms/step - loss: 0.0371 - accuracy: 0.9817\n",
            "Epoch 165/200\n",
            "75/75 [==============================] - 2s 30ms/step - loss: 0.0373 - accuracy: 0.9817\n",
            "Epoch 166/200\n",
            "75/75 [==============================] - 2s 30ms/step - loss: 0.0369 - accuracy: 0.9817\n",
            "Epoch 167/200\n",
            "75/75 [==============================] - 2s 30ms/step - loss: 0.0369 - accuracy: 0.9821\n",
            "Epoch 168/200\n",
            "75/75 [==============================] - 2s 31ms/step - loss: 0.0370 - accuracy: 0.9821\n",
            "Epoch 169/200\n",
            "75/75 [==============================] - 2s 31ms/step - loss: 0.0373 - accuracy: 0.9821\n",
            "Epoch 170/200\n",
            "75/75 [==============================] - 2s 31ms/step - loss: 0.0371 - accuracy: 0.9821\n",
            "Epoch 171/200\n",
            "75/75 [==============================] - 2s 30ms/step - loss: 0.0370 - accuracy: 0.9821\n",
            "Epoch 172/200\n",
            "75/75 [==============================] - 2s 32ms/step - loss: 0.0371 - accuracy: 0.9821\n",
            "Epoch 173/200\n",
            "75/75 [==============================] - 2s 31ms/step - loss: 0.0371 - accuracy: 0.9821\n",
            "Epoch 174/200\n",
            "75/75 [==============================] - 2s 31ms/step - loss: 0.0374 - accuracy: 0.9821\n",
            "Epoch 175/200\n",
            "75/75 [==============================] - 2s 31ms/step - loss: 0.0370 - accuracy: 0.9817\n",
            "Epoch 176/200\n",
            "75/75 [==============================] - 2s 30ms/step - loss: 0.0373 - accuracy: 0.9817\n",
            "Epoch 177/200\n",
            "75/75 [==============================] - 2s 30ms/step - loss: 0.0369 - accuracy: 0.9821\n",
            "Epoch 178/200\n",
            "75/75 [==============================] - 2s 30ms/step - loss: 0.0370 - accuracy: 0.9817\n",
            "Epoch 179/200\n",
            "75/75 [==============================] - 2s 31ms/step - loss: 0.0369 - accuracy: 0.9821\n",
            "Epoch 180/200\n",
            "75/75 [==============================] - 2s 31ms/step - loss: 0.0368 - accuracy: 0.9817\n",
            "Epoch 181/200\n",
            "75/75 [==============================] - 2s 31ms/step - loss: 0.0372 - accuracy: 0.9817\n",
            "Epoch 182/200\n",
            "75/75 [==============================] - 2s 30ms/step - loss: 0.0371 - accuracy: 0.9817\n",
            "Epoch 183/200\n",
            "75/75 [==============================] - 2s 30ms/step - loss: 0.0369 - accuracy: 0.9821\n",
            "Epoch 184/200\n",
            "75/75 [==============================] - 2s 30ms/step - loss: 0.0368 - accuracy: 0.9812\n",
            "Epoch 185/200\n",
            "75/75 [==============================] - 2s 30ms/step - loss: 0.0372 - accuracy: 0.9821\n",
            "Epoch 186/200\n",
            "75/75 [==============================] - 2s 31ms/step - loss: 0.0370 - accuracy: 0.9821\n",
            "Epoch 187/200\n",
            "75/75 [==============================] - 2s 30ms/step - loss: 0.0370 - accuracy: 0.9817\n",
            "Epoch 188/200\n",
            "75/75 [==============================] - 2s 30ms/step - loss: 0.0373 - accuracy: 0.9821\n",
            "Epoch 189/200\n",
            "75/75 [==============================] - 2s 30ms/step - loss: 0.0373 - accuracy: 0.9821\n",
            "Epoch 190/200\n",
            "75/75 [==============================] - 2s 30ms/step - loss: 0.0370 - accuracy: 0.9817\n",
            "Epoch 191/200\n",
            "75/75 [==============================] - 2s 30ms/step - loss: 0.0370 - accuracy: 0.9817\n",
            "Epoch 192/200\n",
            "75/75 [==============================] - 2s 30ms/step - loss: 0.0373 - accuracy: 0.9821\n",
            "Epoch 193/200\n",
            "75/75 [==============================] - 2s 31ms/step - loss: 0.0367 - accuracy: 0.9821\n",
            "Epoch 194/200\n",
            "75/75 [==============================] - 2s 31ms/step - loss: 0.0375 - accuracy: 0.9821\n",
            "Epoch 195/200\n",
            "75/75 [==============================] - 2s 31ms/step - loss: 0.0372 - accuracy: 0.9817\n",
            "Epoch 196/200\n",
            "75/75 [==============================] - 2s 30ms/step - loss: 0.0370 - accuracy: 0.9821\n",
            "Epoch 197/200\n",
            "75/75 [==============================] - 2s 30ms/step - loss: 0.0369 - accuracy: 0.9821\n",
            "Epoch 198/200\n",
            "75/75 [==============================] - 2s 31ms/step - loss: 0.0370 - accuracy: 0.9817\n",
            "Epoch 199/200\n",
            "75/75 [==============================] - 2s 31ms/step - loss: 0.0371 - accuracy: 0.9817\n",
            "Epoch 200/200\n",
            "75/75 [==============================] - 2s 31ms/step - loss: 0.0369 - accuracy: 0.9817\n"
          ],
          "name": "stdout"
        },
        {
          "output_type": "execute_result",
          "data": {
            "text/plain": [
              "<tensorflow.python.keras.callbacks.History at 0x7fbe450759b0>"
            ]
          },
          "metadata": {
            "tags": []
          },
          "execution_count": 150
        }
      ]
    },
    {
      "cell_type": "code",
      "metadata": {
        "id": "9cUbmq40ZrcE",
        "colab": {
          "base_uri": "https://localhost:8080/"
        },
        "outputId": "b8d9dfab-91a4-4f5d-85c2-4649a2de6e39"
      },
      "source": [
        "# Lets evaluate our model\n",
        "loss, accuracy = model.evaluate(padded_test_set, ytest, verbose=0)\n",
        "print(\"validation loss: \", loss, \"test accuracy: \", accuracy*100,\"%\")"
      ],
      "execution_count": null,
      "outputs": [
        {
          "output_type": "stream",
          "text": [
            "validation loss:  0.3324663043022156 test accuracy:  92.00000166893005 %\n"
          ],
          "name": "stdout"
        }
      ]
    },
    {
      "cell_type": "code",
      "metadata": {
        "colab": {
          "base_uri": "https://localhost:8080/"
        },
        "id": "AmP43bK8rG9_",
        "outputId": "952f0a28-5377-4d3f-c40c-f5b6667ddf34"
      },
      "source": [
        "opt = Adam(lr = 0.0001)\n",
        "loss = 'binary_crossentropy'\n",
        "\n",
        "# Lets optimize our model\n",
        "model = Sequential()\n",
        "model.add(Embedding(sequences, 100, weights=[embedding_matrix], input_length=6))\n",
        "model.add(LSTM(100))\n",
        "model.add(Dropout(0.3))\n",
        "model.add(Flatten())\n",
        "model.add(Dense(10, activation= 'relu'))\n",
        "model.add(Dense(1, activation= 'sigmoid' ))\n",
        "# compile network\n",
        "model.compile(optimizer=opt, loss = loss, metrics=['accuracy'])\n",
        "# summarize defined model\n",
        "model.summary()"
      ],
      "execution_count": null,
      "outputs": [
        {
          "output_type": "stream",
          "text": [
            "Model: \"sequential_11\"\n",
            "_________________________________________________________________\n",
            "Layer (type)                 Output Shape              Param #   \n",
            "=================================================================\n",
            "embedding_10 (Embedding)     (None, 6, 100)            3032200   \n",
            "_________________________________________________________________\n",
            "lstm_2 (LSTM)                (None, 100)               80400     \n",
            "_________________________________________________________________\n",
            "dropout_2 (Dropout)          (None, 100)               0         \n",
            "_________________________________________________________________\n",
            "flatten_6 (Flatten)          (None, 100)               0         \n",
            "_________________________________________________________________\n",
            "dense_10 (Dense)             (None, 10)                1010      \n",
            "_________________________________________________________________\n",
            "dense_11 (Dense)             (None, 1)                 11        \n",
            "=================================================================\n",
            "Total params: 3,113,621\n",
            "Trainable params: 3,113,621\n",
            "Non-trainable params: 0\n",
            "_________________________________________________________________\n"
          ],
          "name": "stdout"
        }
      ]
    },
    {
      "cell_type": "code",
      "metadata": {
        "colab": {
          "base_uri": "https://localhost:8080/"
        },
        "id": "UTma6cJBsAQW",
        "outputId": "aa08ef22-eaad-4f28-bed1-b0fc3c509482"
      },
      "source": [
        "#Fitting the data into the model\n",
        "model.fit(padded_train_set, ytrain, epochs=60, verbose=1)"
      ],
      "execution_count": null,
      "outputs": [
        {
          "output_type": "stream",
          "text": [
            "Epoch 1/60\n",
            "75/75 [==============================] - 3s 35ms/step - loss: 0.4824 - accuracy: 0.8213\n",
            "Epoch 2/60\n",
            "75/75 [==============================] - 3s 36ms/step - loss: 0.4121 - accuracy: 0.8325\n",
            "Epoch 3/60\n",
            "75/75 [==============================] - 3s 36ms/step - loss: 0.3824 - accuracy: 0.8346\n",
            "Epoch 4/60\n",
            "75/75 [==============================] - 3s 34ms/step - loss: 0.3477 - accuracy: 0.8458\n",
            "Epoch 5/60\n",
            "75/75 [==============================] - 3s 37ms/step - loss: 0.3042 - accuracy: 0.8771\n",
            "Epoch 6/60\n",
            "75/75 [==============================] - 3s 34ms/step - loss: 0.2695 - accuracy: 0.9000\n",
            "Epoch 7/60\n",
            "75/75 [==============================] - 3s 34ms/step - loss: 0.2398 - accuracy: 0.9167\n",
            "Epoch 8/60\n",
            "75/75 [==============================] - 3s 35ms/step - loss: 0.2230 - accuracy: 0.9187\n",
            "Epoch 9/60\n",
            "75/75 [==============================] - 3s 34ms/step - loss: 0.2027 - accuracy: 0.9258\n",
            "Epoch 10/60\n",
            "75/75 [==============================] - 3s 34ms/step - loss: 0.1888 - accuracy: 0.9283\n",
            "Epoch 11/60\n",
            "75/75 [==============================] - 3s 34ms/step - loss: 0.1771 - accuracy: 0.9354\n",
            "Epoch 12/60\n",
            "75/75 [==============================] - 3s 34ms/step - loss: 0.1635 - accuracy: 0.9383\n",
            "Epoch 13/60\n",
            "75/75 [==============================] - 2s 33ms/step - loss: 0.1541 - accuracy: 0.9421\n",
            "Epoch 14/60\n",
            "75/75 [==============================] - 3s 34ms/step - loss: 0.1408 - accuracy: 0.9496\n",
            "Epoch 15/60\n",
            "75/75 [==============================] - 3s 34ms/step - loss: 0.1360 - accuracy: 0.9500\n",
            "Epoch 16/60\n",
            "75/75 [==============================] - 3s 35ms/step - loss: 0.1257 - accuracy: 0.9525\n",
            "Epoch 17/60\n",
            "75/75 [==============================] - 3s 34ms/step - loss: 0.1189 - accuracy: 0.9575\n",
            "Epoch 18/60\n",
            "75/75 [==============================] - 3s 34ms/step - loss: 0.1134 - accuracy: 0.9621\n",
            "Epoch 19/60\n",
            "75/75 [==============================] - 3s 35ms/step - loss: 0.1078 - accuracy: 0.9621\n",
            "Epoch 20/60\n",
            "75/75 [==============================] - 3s 35ms/step - loss: 0.1001 - accuracy: 0.9621\n",
            "Epoch 21/60\n",
            "75/75 [==============================] - 3s 34ms/step - loss: 0.0950 - accuracy: 0.9646\n",
            "Epoch 22/60\n",
            "75/75 [==============================] - 3s 34ms/step - loss: 0.0874 - accuracy: 0.9671\n",
            "Epoch 23/60\n",
            "75/75 [==============================] - 3s 36ms/step - loss: 0.0851 - accuracy: 0.9675\n",
            "Epoch 24/60\n",
            "75/75 [==============================] - 3s 34ms/step - loss: 0.0775 - accuracy: 0.9696\n",
            "Epoch 25/60\n",
            "75/75 [==============================] - 3s 35ms/step - loss: 0.0818 - accuracy: 0.9642\n",
            "Epoch 26/60\n",
            "75/75 [==============================] - 3s 35ms/step - loss: 0.0731 - accuracy: 0.9717\n",
            "Epoch 27/60\n",
            "75/75 [==============================] - 3s 36ms/step - loss: 0.0730 - accuracy: 0.9688\n",
            "Epoch 28/60\n",
            "75/75 [==============================] - 3s 36ms/step - loss: 0.0680 - accuracy: 0.9725\n",
            "Epoch 29/60\n",
            "75/75 [==============================] - 3s 34ms/step - loss: 0.0633 - accuracy: 0.9742\n",
            "Epoch 30/60\n",
            "75/75 [==============================] - 3s 34ms/step - loss: 0.0641 - accuracy: 0.9742\n",
            "Epoch 31/60\n",
            "75/75 [==============================] - 3s 34ms/step - loss: 0.0586 - accuracy: 0.9775\n",
            "Epoch 32/60\n",
            "75/75 [==============================] - 3s 34ms/step - loss: 0.0583 - accuracy: 0.9758\n",
            "Epoch 33/60\n",
            "75/75 [==============================] - 3s 34ms/step - loss: 0.0597 - accuracy: 0.9754\n",
            "Epoch 34/60\n",
            "75/75 [==============================] - 3s 34ms/step - loss: 0.0546 - accuracy: 0.9771\n",
            "Epoch 35/60\n",
            "75/75 [==============================] - 3s 34ms/step - loss: 0.0544 - accuracy: 0.9775\n",
            "Epoch 36/60\n",
            "75/75 [==============================] - 3s 34ms/step - loss: 0.0561 - accuracy: 0.9758\n",
            "Epoch 37/60\n",
            "75/75 [==============================] - 3s 34ms/step - loss: 0.0532 - accuracy: 0.9783\n",
            "Epoch 38/60\n",
            "75/75 [==============================] - 3s 34ms/step - loss: 0.0537 - accuracy: 0.9775\n",
            "Epoch 39/60\n",
            "75/75 [==============================] - 3s 34ms/step - loss: 0.0524 - accuracy: 0.9771\n",
            "Epoch 40/60\n",
            "75/75 [==============================] - 3s 34ms/step - loss: 0.0540 - accuracy: 0.9771\n",
            "Epoch 41/60\n",
            "75/75 [==============================] - 3s 34ms/step - loss: 0.0501 - accuracy: 0.9783\n",
            "Epoch 42/60\n",
            "75/75 [==============================] - 3s 34ms/step - loss: 0.0514 - accuracy: 0.9746\n",
            "Epoch 43/60\n",
            "75/75 [==============================] - 3s 34ms/step - loss: 0.0528 - accuracy: 0.9762\n",
            "Epoch 44/60\n",
            "75/75 [==============================] - 3s 34ms/step - loss: 0.0479 - accuracy: 0.9796\n",
            "Epoch 45/60\n",
            "75/75 [==============================] - 3s 34ms/step - loss: 0.0480 - accuracy: 0.9783\n",
            "Epoch 46/60\n",
            "75/75 [==============================] - 3s 34ms/step - loss: 0.0492 - accuracy: 0.9762\n",
            "Epoch 47/60\n",
            "75/75 [==============================] - 3s 34ms/step - loss: 0.0476 - accuracy: 0.9792\n",
            "Epoch 48/60\n",
            "75/75 [==============================] - 3s 34ms/step - loss: 0.0451 - accuracy: 0.9792\n",
            "Epoch 49/60\n",
            "75/75 [==============================] - 3s 34ms/step - loss: 0.0513 - accuracy: 0.9792\n",
            "Epoch 50/60\n",
            "75/75 [==============================] - 3s 34ms/step - loss: 0.0450 - accuracy: 0.9808\n",
            "Epoch 51/60\n",
            "75/75 [==============================] - 3s 35ms/step - loss: 0.0462 - accuracy: 0.9787\n",
            "Epoch 52/60\n",
            "75/75 [==============================] - 3s 34ms/step - loss: 0.0462 - accuracy: 0.9817\n",
            "Epoch 53/60\n",
            "75/75 [==============================] - 3s 34ms/step - loss: 0.0475 - accuracy: 0.9787\n",
            "Epoch 54/60\n",
            "75/75 [==============================] - 3s 34ms/step - loss: 0.0450 - accuracy: 0.9817\n",
            "Epoch 55/60\n",
            "75/75 [==============================] - 3s 34ms/step - loss: 0.0447 - accuracy: 0.9812\n",
            "Epoch 56/60\n",
            "75/75 [==============================] - 3s 34ms/step - loss: 0.0462 - accuracy: 0.9796\n",
            "Epoch 57/60\n",
            "75/75 [==============================] - 3s 34ms/step - loss: 0.0449 - accuracy: 0.9812\n",
            "Epoch 58/60\n",
            "75/75 [==============================] - 3s 34ms/step - loss: 0.0468 - accuracy: 0.9758\n",
            "Epoch 59/60\n",
            "75/75 [==============================] - 3s 34ms/step - loss: 0.0452 - accuracy: 0.9767\n",
            "Epoch 60/60\n",
            "75/75 [==============================] - 3s 34ms/step - loss: 0.0447 - accuracy: 0.9800\n"
          ],
          "name": "stdout"
        },
        {
          "output_type": "execute_result",
          "data": {
            "text/plain": [
              "<tensorflow.python.keras.callbacks.History at 0x7fbe3a611630>"
            ]
          },
          "metadata": {
            "tags": []
          },
          "execution_count": 161
        }
      ]
    },
    {
      "cell_type": "code",
      "metadata": {
        "colab": {
          "base_uri": "https://localhost:8080/"
        },
        "id": "Tf0unHVPsGEx",
        "outputId": "1b397b66-95c7-42ce-baad-c68aa7c41f08"
      },
      "source": [
        "# Lets evaluate our model\n",
        "loss, accuracy = model.evaluate(padded_test_set, ytest, verbose=0)\n",
        "print(\"validation loss: \", loss, \"test accuracy: \", accuracy*100,\"%\")"
      ],
      "execution_count": null,
      "outputs": [
        {
          "output_type": "stream",
          "text": [
            "validation loss:  0.2654097378253937 test accuracy:  93.83333325386047 %\n"
          ],
          "name": "stdout"
        }
      ]
    },
    {
      "cell_type": "code",
      "metadata": {
        "colab": {
          "base_uri": "https://localhost:8080/"
        },
        "id": "LmqubPe8tPH6",
        "outputId": "8cce0c37-0f0d-467e-b86f-365e05fcb893"
      },
      "source": [
        "# save model\n",
        "model.save('spam_model.sav')"
      ],
      "execution_count": null,
      "outputs": [
        {
          "output_type": "stream",
          "text": [
            "WARNING:tensorflow:From /usr/local/lib/python3.6/dist-packages/tensorflow/python/training/tracking/tracking.py:111: Model.state_updates (from tensorflow.python.keras.engine.training) is deprecated and will be removed in a future version.\n",
            "Instructions for updating:\n",
            "This property should not be used in TensorFlow 2.0, as updates are applied automatically.\n",
            "WARNING:tensorflow:From /usr/local/lib/python3.6/dist-packages/tensorflow/python/training/tracking/tracking.py:111: Layer.updates (from tensorflow.python.keras.engine.base_layer) is deprecated and will be removed in a future version.\n",
            "Instructions for updating:\n",
            "This property should not be used in TensorFlow 2.0, as updates are applied automatically.\n",
            "INFO:tensorflow:Assets written to: spam_model.sav/assets\n"
          ],
          "name": "stdout"
        }
      ]
    },
    {
      "cell_type": "code",
      "metadata": {
        "id": "0tJ_101XuLE7"
      },
      "source": [
        "# load model\n",
        "from keras.models import load_model\n",
        "model = load_model( 'spam_model.sav' )"
      ],
      "execution_count": null,
      "outputs": []
    },
    {
      "cell_type": "code",
      "metadata": {
        "colab": {
          "base_uri": "https://localhost:8080/",
          "height": 17
        },
        "id": "bCsoqy9NuUyu",
        "outputId": "612e764e-d51f-4459-9e11-09a35afde199"
      },
      "source": [
        "# downloadin the model and use it in Heroku\n",
        "from google.colab import files\n",
        "files.download('spam_model.sav')"
      ],
      "execution_count": null,
      "outputs": [
        {
          "output_type": "display_data",
          "data": {
            "application/javascript": [
              "\n",
              "    async function download(id, filename, size) {\n",
              "      if (!google.colab.kernel.accessAllowed) {\n",
              "        return;\n",
              "      }\n",
              "      const div = document.createElement('div');\n",
              "      const label = document.createElement('label');\n",
              "      label.textContent = `Downloading \"${filename}\": `;\n",
              "      div.appendChild(label);\n",
              "      const progress = document.createElement('progress');\n",
              "      progress.max = size;\n",
              "      div.appendChild(progress);\n",
              "      document.body.appendChild(div);\n",
              "\n",
              "      const buffers = [];\n",
              "      let downloaded = 0;\n",
              "\n",
              "      const channel = await google.colab.kernel.comms.open(id);\n",
              "      // Send a message to notify the kernel that we're ready.\n",
              "      channel.send({})\n",
              "\n",
              "      for await (const message of channel.messages) {\n",
              "        // Send a message to notify the kernel that we're ready.\n",
              "        channel.send({})\n",
              "        if (message.buffers) {\n",
              "          for (const buffer of message.buffers) {\n",
              "            buffers.push(buffer);\n",
              "            downloaded += buffer.byteLength;\n",
              "            progress.value = downloaded;\n",
              "          }\n",
              "        }\n",
              "      }\n",
              "      const blob = new Blob(buffers, {type: 'application/binary'});\n",
              "      const a = document.createElement('a');\n",
              "      a.href = window.URL.createObjectURL(blob);\n",
              "      a.download = filename;\n",
              "      div.appendChild(a);\n",
              "      a.click();\n",
              "      div.remove();\n",
              "    }\n",
              "  "
            ],
            "text/plain": [
              "<IPython.core.display.Javascript object>"
            ]
          },
          "metadata": {
            "tags": []
          }
        },
        {
          "output_type": "display_data",
          "data": {
            "application/javascript": [
              "download(\"download_ff62ffe9-44af-42f7-884f-dd8670f9fe78\", \"spam_model.sav\", 4096)"
            ],
            "text/plain": [
              "<IPython.core.display.Javascript object>"
            ]
          },
          "metadata": {
            "tags": []
          }
        }
      ]
    },
    {
      "cell_type": "code",
      "metadata": {
        "id": "l8-sFMGiwGle"
      },
      "source": [
        ""
      ],
      "execution_count": null,
      "outputs": []
    }
  ]
}